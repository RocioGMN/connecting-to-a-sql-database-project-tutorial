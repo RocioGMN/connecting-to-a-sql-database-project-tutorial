{
 "cells": [
  {
   "cell_type": "markdown",
   "metadata": {},
   "source": [
    "# Explora aquí\n",
    "\n",
    "Se recomienda utilizar este cuaderno con fines de exploración.\n",
    "\n",
    "Por ejemplo:\n",
    "\n",
    "1. Puede importar el CSV generado por Python a su computadora portátil y explorarlo.\n",
    "2. Puede conectarse a su base de datos usando `pandas.read_sql` desde este cuaderno y explorarla."
   ]
  },
  {
   "cell_type": "code",
   "execution_count": 13,
   "metadata": {},
   "outputs": [
    {
     "ename": "AttributeError",
     "evalue": "'OptionEngine' object has no attribute 'execute'",
     "output_type": "error",
     "traceback": [
      "\u001b[0;31m---------------------------------------------------------------------------\u001b[0m",
      "\u001b[0;31mAttributeError\u001b[0m                            Traceback (most recent call last)",
      "Cell \u001b[0;32mIn[13], line 14\u001b[0m\n\u001b[1;32m     11\u001b[0m engine \u001b[38;5;241m=\u001b[39m create_engine(connection_string)\u001b[38;5;241m.\u001b[39mexecution_options(autocommit\u001b[38;5;241m=\u001b[39m\u001b[38;5;28;01mTrue\u001b[39;00m)\n\u001b[1;32m     12\u001b[0m engine\u001b[38;5;241m.\u001b[39mconnect()\n\u001b[0;32m---> 14\u001b[0m \u001b[43mengine\u001b[49m\u001b[38;5;241;43m.\u001b[39;49m\u001b[43mexecute\u001b[49m(\u001b[38;5;124m\"\"\"\u001b[39m\n\u001b[1;32m     15\u001b[0m \u001b[38;5;124mCREATE TABLE publishers(\u001b[39m\n\u001b[1;32m     16\u001b[0m \u001b[38;5;124m    publisher_id INT NOT NULL,\u001b[39m\n\u001b[1;32m     17\u001b[0m \u001b[38;5;124m    name VARCHAR(255) NOT NULL,\u001b[39m\n\u001b[1;32m     18\u001b[0m \u001b[38;5;124m    PRIMARY KEY(publisher_id)\u001b[39m\n\u001b[1;32m     19\u001b[0m \u001b[38;5;124m);\u001b[39m\n\u001b[1;32m     20\u001b[0m \n\u001b[1;32m     21\u001b[0m \u001b[38;5;124mCREATE TABLE authors(\u001b[39m\n\u001b[1;32m     22\u001b[0m \u001b[38;5;124m    author_id INT NOT NULL,\u001b[39m\n\u001b[1;32m     23\u001b[0m \u001b[38;5;124m    first_name VARCHAR(100) NOT NULL,\u001b[39m\n\u001b[1;32m     24\u001b[0m \u001b[38;5;124m    middle_name VARCHAR(50) NULL,\u001b[39m\n\u001b[1;32m     25\u001b[0m \u001b[38;5;124m    last_name VARCHAR(100) NULL,\u001b[39m\n\u001b[1;32m     26\u001b[0m \u001b[38;5;124m    PRIMARY KEY(author_id)\u001b[39m\n\u001b[1;32m     27\u001b[0m \u001b[38;5;124m);\u001b[39m\n\u001b[1;32m     28\u001b[0m \n\u001b[1;32m     29\u001b[0m \u001b[38;5;124mCREATE TABLE books(\u001b[39m\n\u001b[1;32m     30\u001b[0m \u001b[38;5;124m    book_id INT NOT NULL,\u001b[39m\n\u001b[1;32m     31\u001b[0m \u001b[38;5;124m    title VARCHAR(255) NOT NULL,\u001b[39m\n\u001b[1;32m     32\u001b[0m \u001b[38;5;124m    total_pages INT NULL,\u001b[39m\n\u001b[1;32m     33\u001b[0m \u001b[38;5;124m    rating DECIMAL(4, 2) NULL,\u001b[39m\n\u001b[1;32m     34\u001b[0m \u001b[38;5;124m    isbn VARCHAR(13) NULL,\u001b[39m\n\u001b[1;32m     35\u001b[0m \u001b[38;5;124m    published_date DATE,\u001b[39m\n\u001b[1;32m     36\u001b[0m \u001b[38;5;124m    publisher_id INT NULL,\u001b[39m\n\u001b[1;32m     37\u001b[0m \u001b[38;5;124m    PRIMARY KEY(book_id),\u001b[39m\n\u001b[1;32m     38\u001b[0m \u001b[38;5;124m    CONSTRAINT fk_publisher FOREIGN KEY(publisher_id) REFERENCES publishers(publisher_id)\u001b[39m\n\u001b[1;32m     39\u001b[0m \u001b[38;5;124m);\u001b[39m\n\u001b[1;32m     40\u001b[0m \n\u001b[1;32m     41\u001b[0m \u001b[38;5;124mCREATE TABLE book_authors (\u001b[39m\n\u001b[1;32m     42\u001b[0m \u001b[38;5;124m    book_id INT NOT NULL,\u001b[39m\n\u001b[1;32m     43\u001b[0m \u001b[38;5;124m    author_id INT NOT NULL,\u001b[39m\n\u001b[1;32m     44\u001b[0m \u001b[38;5;124m    PRIMARY KEY(book_id, author_id),\u001b[39m\n\u001b[1;32m     45\u001b[0m \u001b[38;5;124m    CONSTRAINT fk_book FOREIGN KEY(book_id) REFERENCES books(book_id) ON DELETE CASCADE,\u001b[39m\n\u001b[1;32m     46\u001b[0m \u001b[38;5;124m    CONSTRAINT fk_author FOREIGN KEY(author_id) REFERENCES authors(author_id) ON DELETE CASCADE\u001b[39m\n\u001b[1;32m     47\u001b[0m \u001b[38;5;124m);\u001b[39m\n\u001b[1;32m     48\u001b[0m \u001b[38;5;124m\"\"\"\u001b[39m)\n\u001b[1;32m     49\u001b[0m \u001b[38;5;66;03m# dataframe = pd.read_sql(\"Select * from books;\", engine)\u001b[39;00m\n\u001b[1;32m     50\u001b[0m \u001b[38;5;66;03m# print(dataframe.describe())\u001b[39;00m\n",
      "\u001b[0;31mAttributeError\u001b[0m: 'OptionEngine' object has no attribute 'execute'"
     ]
    }
   ],
   "source": [
    "# Ejemplo de lectura de la base de datos SQL desde aquí\n",
    "import os\n",
    "from dotenv import load_dotenv\n",
    "from sqlalchemy import create_engine\n",
    "import pandas as pd\n",
    "\n",
    "# cargar las variables del archivo .env\n",
    "load_dotenv()\n",
    "\n",
    "connection_string = f\"postgresql://{os.getenv('DB_USER')}:{os.getenv('DB_PASSWORD')}@{os.getenv('DB_HOST')}/{os.getenv('DB_NAME')}\"\n",
    "engine = create_engine(connection_string).execution_options(autocommit=True)\n",
    "engine.connect()\n",
    "\n",
    "# dataframe = pd.read_sql(\"Select * from books;\", engine)\n",
    "# print(dataframe.describe())"
   ]
  },
  {
   "cell_type": "code",
   "execution_count": 10,
   "metadata": {},
   "outputs": [
    {
     "ename": "AttributeError",
     "evalue": "'OptionEngine' object has no attribute 'execute'",
     "output_type": "error",
     "traceback": [
      "\u001b[0;31m---------------------------------------------------------------------------\u001b[0m",
      "\u001b[0;31mAttributeError\u001b[0m                            Traceback (most recent call last)",
      "Cell \u001b[0;32mIn[10], line 1\u001b[0m\n\u001b[0;32m----> 1\u001b[0m \u001b[43mengine\u001b[49m\u001b[38;5;241;43m.\u001b[39;49m\u001b[43mexecute\u001b[49m(\u001b[38;5;124m\"\"\"\u001b[39m\n\u001b[1;32m      2\u001b[0m \u001b[38;5;124mCREATE TABLE publishers(\u001b[39m\n\u001b[1;32m      3\u001b[0m \u001b[38;5;124m    publisher_id INT NOT NULL,\u001b[39m\n\u001b[1;32m      4\u001b[0m \u001b[38;5;124m    name VARCHAR(255) NOT NULL,\u001b[39m\n\u001b[1;32m      5\u001b[0m \u001b[38;5;124m    PRIMARY KEY(publisher_id)\u001b[39m\n\u001b[1;32m      6\u001b[0m \u001b[38;5;124m);\u001b[39m\n\u001b[1;32m      7\u001b[0m \n\u001b[1;32m      8\u001b[0m \u001b[38;5;124mCREATE TABLE authors(\u001b[39m\n\u001b[1;32m      9\u001b[0m \u001b[38;5;124m    author_id INT NOT NULL,\u001b[39m\n\u001b[1;32m     10\u001b[0m \u001b[38;5;124m    first_name VARCHAR(100) NOT NULL,\u001b[39m\n\u001b[1;32m     11\u001b[0m \u001b[38;5;124m    middle_name VARCHAR(50) NULL,\u001b[39m\n\u001b[1;32m     12\u001b[0m \u001b[38;5;124m    last_name VARCHAR(100) NULL,\u001b[39m\n\u001b[1;32m     13\u001b[0m \u001b[38;5;124m    PRIMARY KEY(author_id)\u001b[39m\n\u001b[1;32m     14\u001b[0m \u001b[38;5;124m);\u001b[39m\n\u001b[1;32m     15\u001b[0m \n\u001b[1;32m     16\u001b[0m \u001b[38;5;124mCREATE TABLE books(\u001b[39m\n\u001b[1;32m     17\u001b[0m \u001b[38;5;124m    book_id INT NOT NULL,\u001b[39m\n\u001b[1;32m     18\u001b[0m \u001b[38;5;124m    title VARCHAR(255) NOT NULL,\u001b[39m\n\u001b[1;32m     19\u001b[0m \u001b[38;5;124m    total_pages INT NULL,\u001b[39m\n\u001b[1;32m     20\u001b[0m \u001b[38;5;124m    rating DECIMAL(4, 2) NULL,\u001b[39m\n\u001b[1;32m     21\u001b[0m \u001b[38;5;124m    isbn VARCHAR(13) NULL,\u001b[39m\n\u001b[1;32m     22\u001b[0m \u001b[38;5;124m    published_date DATE,\u001b[39m\n\u001b[1;32m     23\u001b[0m \u001b[38;5;124m    publisher_id INT NULL,\u001b[39m\n\u001b[1;32m     24\u001b[0m \u001b[38;5;124m    PRIMARY KEY(book_id),\u001b[39m\n\u001b[1;32m     25\u001b[0m \u001b[38;5;124m    CONSTRAINT fk_publisher FOREIGN KEY(publisher_id) REFERENCES publishers(publisher_id)\u001b[39m\n\u001b[1;32m     26\u001b[0m \u001b[38;5;124m);\u001b[39m\n\u001b[1;32m     27\u001b[0m \n\u001b[1;32m     28\u001b[0m \u001b[38;5;124mCREATE TABLE book_authors (\u001b[39m\n\u001b[1;32m     29\u001b[0m \u001b[38;5;124m    book_id INT NOT NULL,\u001b[39m\n\u001b[1;32m     30\u001b[0m \u001b[38;5;124m    author_id INT NOT NULL,\u001b[39m\n\u001b[1;32m     31\u001b[0m \u001b[38;5;124m    PRIMARY KEY(book_id, author_id),\u001b[39m\n\u001b[1;32m     32\u001b[0m \u001b[38;5;124m    CONSTRAINT fk_book FOREIGN KEY(book_id) REFERENCES books(book_id) ON DELETE CASCADE,\u001b[39m\n\u001b[1;32m     33\u001b[0m \u001b[38;5;124m    CONSTRAINT fk_author FOREIGN KEY(author_id) REFERENCES authors(author_id) ON DELETE CASCADE\u001b[39m\n\u001b[1;32m     34\u001b[0m \u001b[38;5;124m);\u001b[39m\n\u001b[1;32m     35\u001b[0m \u001b[38;5;124m\"\"\"\u001b[39m)\n",
      "\u001b[0;31mAttributeError\u001b[0m: 'OptionEngine' object has no attribute 'execute'"
     ]
    }
   ],
   "source": [
    "engine.execute(\"\"\"\n",
    "CREATE TABLE publishers(\n",
    "    publisher_id INT NOT NULL,\n",
    "    name VARCHAR(255) NOT NULL,\n",
    "    PRIMARY KEY(publisher_id)\n",
    ");\n",
    "\n",
    "CREATE TABLE authors(\n",
    "    author_id INT NOT NULL,\n",
    "    first_name VARCHAR(100) NOT NULL,\n",
    "    middle_name VARCHAR(50) NULL,\n",
    "    last_name VARCHAR(100) NULL,\n",
    "    PRIMARY KEY(author_id)\n",
    ");\n",
    "\n",
    "CREATE TABLE books(\n",
    "    book_id INT NOT NULL,\n",
    "    title VARCHAR(255) NOT NULL,\n",
    "    total_pages INT NULL,\n",
    "    rating DECIMAL(4, 2) NULL,\n",
    "    isbn VARCHAR(13) NULL,\n",
    "    published_date DATE,\n",
    "    publisher_id INT NULL,\n",
    "    PRIMARY KEY(book_id),\n",
    "    CONSTRAINT fk_publisher FOREIGN KEY(publisher_id) REFERENCES publishers(publisher_id)\n",
    ");\n",
    "\n",
    "CREATE TABLE book_authors (\n",
    "    book_id INT NOT NULL,\n",
    "    author_id INT NOT NULL,\n",
    "    PRIMARY KEY(book_id, author_id),\n",
    "    CONSTRAINT fk_book FOREIGN KEY(book_id) REFERENCES books(book_id) ON DELETE CASCADE,\n",
    "    CONSTRAINT fk_author FOREIGN KEY(author_id) REFERENCES authors(author_id) ON DELETE CASCADE\n",
    ");\n",
    "\"\"\")"
   ]
  },
  {
   "cell_type": "code",
   "execution_count": 12,
   "metadata": {},
   "outputs": [
    {
     "ename": "AttributeError",
     "evalue": "'OptionEngine' object has no attribute 'execute'",
     "output_type": "error",
     "traceback": [
      "\u001b[0;31m---------------------------------------------------------------------------\u001b[0m",
      "\u001b[0;31mAttributeError\u001b[0m                            Traceback (most recent call last)",
      "Cell \u001b[0;32mIn[12], line 1\u001b[0m\n\u001b[0;32m----> 1\u001b[0m \u001b[43mengine\u001b[49m\u001b[38;5;241;43m.\u001b[39;49m\u001b[43mexecute\u001b[49m()\n",
      "\u001b[0;31mAttributeError\u001b[0m: 'OptionEngine' object has no attribute 'execute'"
     ]
    }
   ],
   "source": [
    "engine.connect()"
   ]
  }
 ],
 "metadata": {
  "kernelspec": {
   "display_name": "Python 3.8.13 64-bit ('3.8.13')",
   "language": "python",
   "name": "python3"
  },
  "language_info": {
   "codemirror_mode": {
    "name": "ipython",
    "version": 3
   },
   "file_extension": ".py",
   "mimetype": "text/x-python",
   "name": "python",
   "nbconvert_exporter": "python",
   "pygments_lexer": "ipython3",
   "version": "3.12.3"
  },
  "orig_nbformat": 4,
  "vscode": {
   "interpreter": {
    "hash": "110cc1dee26208153f2972f08a2ad52b6a56238dc66d48e87fb757ef2996db56"
   }
  }
 },
 "nbformat": 4,
 "nbformat_minor": 2
}
